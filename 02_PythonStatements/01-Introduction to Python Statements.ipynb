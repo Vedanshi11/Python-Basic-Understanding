{
 "cells": [
  {
   "cell_type": "markdown",
   "metadata": {},
   "source": [
    "# Introduction to Python Statements"
   ]
  },
  {
   "cell_type": "markdown",
   "metadata": {},
   "source": [
    "In this notebook, we are going to differentiate the differences between Python and other programming languages such as C++."
   ]
  },
  {
   "cell_type": "markdown",
   "metadata": {},
   "source": [
    "## Python vs Other Languages"
   ]
  },
  {
   "cell_type": "markdown",
   "metadata": {},
   "source": [
    "Let's create a simple statement that says: \"If a is greater than b, assign 2 to a and 4 to b\""
   ]
  },
  {
   "cell_type": "markdown",
   "metadata": {},
   "source": [
    "### Version 1 (Other Languages)\n",
    "\n",
    "&nbsp;&nbsp;&nbsp;&nbsp;if (a>b){ <br>\n",
    "&nbsp;&nbsp;&nbsp;&nbsp;   &nbsp;&nbsp;&nbsp; a = 2; <br>\n",
    "&nbsp;&nbsp;&nbsp;&nbsp;   &nbsp;&nbsp;&nbsp; b = 4; <br>\n",
    "&nbsp;&nbsp;&nbsp;&nbsp;}"
   ]
  },
  {
   "cell_type": "markdown",
   "metadata": {},
   "source": [
    "### Version 2 (Python)\n",
    "\n",
    "&nbsp;&nbsp;&nbsp;&nbsp;if a>b: <br>\n",
    "&nbsp;&nbsp;&nbsp;&nbsp;   &nbsp;&nbsp;&nbsp; a = 2 <br>\n",
    "&nbsp;&nbsp;&nbsp;&nbsp;   &nbsp;&nbsp;&nbsp; b = 4"
   ]
  },
  {
   "cell_type": "markdown",
   "metadata": {},
   "source": [
    "**Note:** \n",
    "- Python gets rid of () and {} by incorporating two main factors: a colon and whitespace.\n",
    "- Python gets rid of semicolons, here, the end of a line is the same as the end of the statement."
   ]
  },
  {
   "cell_type": "markdown",
   "metadata": {},
   "source": [
    "## Indentation\n",
    "Pseudo-code to indicate the use of whitespace and indentation in Python:\n",
    "\n",
    "**Other Languages**\n",
    "\n",
    "&nbsp;&nbsp;&nbsp;&nbsp;&nbsp;&nbsp;if (x) <br>\n",
    "&nbsp;&nbsp;&nbsp;&nbsp;&nbsp;&nbsp;&nbsp;&nbsp;&nbsp; if(y) <br>\n",
    "&nbsp;&nbsp;&nbsp;&nbsp;&nbsp;&nbsp;&nbsp;&nbsp;&nbsp;&nbsp;&nbsp;&nbsp; code-statement; <br>\n",
    "&nbsp;&nbsp;&nbsp;&nbsp;&nbsp;&nbsp;else <br>\n",
    "&nbsp;&nbsp;&nbsp;&nbsp;&nbsp;&nbsp;&nbsp;&nbsp;&nbsp; another-code-statement; <br>\n",
    "\n",
    "**Python**\n",
    "\n",
    "&nbsp;&nbsp;&nbsp;&nbsp;&nbsp;&nbsp;if x: <br>\n",
    "&nbsp;&nbsp;&nbsp;&nbsp;&nbsp;&nbsp;&nbsp;&nbsp;&nbsp; if y: <br>\n",
    "&nbsp;&nbsp;&nbsp;&nbsp;&nbsp;&nbsp;&nbsp;&nbsp;&nbsp;&nbsp;&nbsp;&nbsp; code-statement <br>\n",
    "&nbsp;&nbsp;&nbsp;&nbsp;&nbsp;&nbsp;else: <br>\n",
    "&nbsp;&nbsp;&nbsp;&nbsp;&nbsp;&nbsp;&nbsp;&nbsp;&nbsp; another-code-statement <br>\n",
    "    \n",
    "Note how Python is so heavily driven by code indentation and whitespace. This means that code readability is a core part of the design of the Python language."
   ]
  },
  {
   "cell_type": "code",
   "execution_count": null,
   "metadata": {},
   "outputs": [],
   "source": []
  }
 ],
 "metadata": {
  "kernelspec": {
   "display_name": "Python 3",
   "language": "python",
   "name": "python3"
  },
  "language_info": {
   "codemirror_mode": {
    "name": "ipython",
    "version": 3
   },
   "file_extension": ".py",
   "mimetype": "text/x-python",
   "name": "python",
   "nbconvert_exporter": "python",
   "pygments_lexer": "ipython3",
   "version": "3.7.4"
  }
 },
 "nbformat": 4,
 "nbformat_minor": 2
}
